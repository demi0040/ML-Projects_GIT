{
 "cells":[
  {
   "cell_type":"markdown",
   "source":[
    "# Classification Experiment\n",
    "## Introduction \n",
    "\n",
    "In this experiment, we aim to classify a dataset from the UCI Machine Learning Repository using various classification models. The goal is to compare the performance of these models and identify the best performing one for the given dataset. In addition, I will use an explainability model to understand the importance of the features in the dataset.\n",
    "\n",
    "The dataset I will be using is the Iris dataset, which contains 150 samples and 4 features. Each sample contains the measurements of sepal length, sepal width, petal length, and petal width of an Iris flower, along with the corresponding species (setosa, versicolor, or virginica). I will be using Python's popular machine learning library, scikit-learn, to train and test the models. The classification models that will be used in this experiment are: Decision Tree Classifier, Logistic Regression, KNeighbors Classifier, Random Forest Classifier."
   ],
   "attachments":{
    
   },
   "metadata":{
    "datalore":{
     "node_id":"cBj5gbSSaovJ8AxW8Vloq2",
     "type":"MD",
     "hide_input_from_viewers":false,
     "hide_output_from_viewers":false
    }
   }
  },
  {
   "cell_type":"markdown",
   "source":[
    "### Problem Statement\n",
    "To classify the Iris dataset from the UCI Machine Learning Repository using various classification models and identify the best performing one.\n",
    "### Objectives\n",
    "Compare the performance of different classification models on the Iris dataset\n",
    "Understand the importance of features in the dataset using an explainability model\n",
    "### Scope\n",
    "This experiment will focus on training and testing classification models using the Iris dataset and comparing their performance.\n",
    "### Overview of the experiment:\n",
    "In this experiment, we will be using the Iris dataset, which contains 150 samples and 4 features. The dataset includes sepal length, sepal width, petal length, and petal width measurements of Iris flowers along with their species. The classification models used are Decision Tree Classifier, Logistic Regression, KNeighbors Classifier, and Random Forest Classifier. The experiment will be conducted using Python3, the scikit-learn library, and the Azure databricks platform. Other libraries used include pandas, matplotlib, seaborn, shap, and eli5.\n",
    "### Tools and Technology\n",
    "- Microsoft Azure databricks Notebook"
   ],
   "attachments":{
    
   },
   "metadata":{
    "datalore":{
     "node_id":"WPr8wcoa7Au1UDH75xMHGK",
     "type":"MD",
     "hide_input_from_viewers":false,
     "hide_output_from_viewers":false
    }
   }
  },
  {
   "cell_type":"markdown",
   "source":[
    "## Methodology\n",
    "### Importing necessery libraries"
   ],
   "attachments":{
    
   },
   "metadata":{
    "datalore":{
     "node_id":"PybqdKtByE7qPx5dnqHkom",
     "type":"MD",
     "hide_input_from_viewers":false,
     "hide_output_from_viewers":false
    }
   }
  },
  {
   "cell_type":"code",
   "source":[
    "# Import necessary libraries\n",
    "import pandas as pd\n",
    "import matplotlib.pyplot as plt\n",
    "import seaborn as sns\n",
    "import numpy as np\n",
    "\n",
    "import eli5\n",
    "import shap\n",
    "\n",
    "from sklearn.model_selection import train_test_split\n",
    "from sklearn.metrics import accuracy_score\n",
    "from sklearn.tree import DecisionTreeClassifier\n",
    "from sklearn.linear_model import LogisticRegression\n",
    "from sklearn.neighbors import KNeighborsClassifier\n",
    "from sklearn.ensemble import RandomForestClassifier\n",
    "from sklearn.inspection import permutation_importance\n",
    "from sklearn.metrics import precision_score, recall_score, f1_score\n",
    "from sklearn.model_selection import cross_val_score\n",
    "from sklearn.datasets import make_classification\n",
    "\n",
    "from eli5.sklearn import PermutationImportance"
   ],
   "execution_count":1,
   "outputs":[
    
   ],
   "metadata":{
    "datalore":{
     "node_id":"9sU4B0de04rN4shXsGIZVv",
     "type":"CODE",
     "hide_input_from_viewers":false,
     "hide_output_from_viewers":false
    }
   }
  },
  {
   "cell_type":"markdown",
   "source":[
    "### Data Collection\n",
    "- The Iris dataset will be used for this experiment.\n",
    "- The dataset was obtained from the UCI Machine Learning Repository (https:\/\/archive.ics.uci.edu\/ml\/datasets\/Iris).\n",
    "- The dataset was loaded into the Jupiter notebook using the Pandas library, specifically the read_csv function (iris_data = pd.read_csv('https:\/\/archive.ics.uci.edu\/ml\/machine-learning-databases\/iris\/iris.data', names=['sepal length', 'sepal width', 'petal length', 'petal width', 'target'])).\n",
    "  \n",
    "- The names argument in the read_csv function was used to specify the names of the columns in the dataset.\n",
    "This dataset contains 150 samples and 4 features (sepal length, sepal width, petal length, and petal width) of different species of Iris flowers (setosa, versicolor, or virginica). This dataset is widely used for testing and evaluating machine learning algorithms, making it a suitable choice for this experiment."
   ],
   "attachments":{
    
   },
   "metadata":{
    "datalore":{
     "node_id":"HeItRd4FnF8XVZr1F7OLoN",
     "type":"MD",
     "hide_input_from_viewers":false,
     "hide_output_from_viewers":false
    }
   }
  },
  {
   "cell_type":"code",
   "source":[
    "# Load the iris data into a DataFrame\n",
    "iris_data = pd.read_csv('https:\/\/archive.ics.uci.edu\/ml\/machine-learning-databases\/iris\/iris.data', names=['sepal length', 'sepal width', 'petal length', 'petal width', 'target'])\n",
    "\n",
    "# Print the first 5 rows of the new dataframe to verify the feature names and target values\n",
    "print(iris_data.head())"
   ],
   "execution_count":2,
   "outputs":[
    {
     "name":"stdout",
     "text":[
      "   sepal length  sepal width  petal length  petal width       target\n",
      "0           5.1          3.5           1.4          0.2  Iris-setosa\n",
      "1           4.9          3.0           1.4          0.2  Iris-setosa\n",
      "2           4.7          3.2           1.3          0.2  Iris-setosa\n",
      "3           4.6          3.1           1.5          0.2  Iris-setosa\n",
      "4           5.0          3.6           1.4          0.2  Iris-setosa\n"
     ],
     "output_type":"stream"
    }
   ],
   "metadata":{
    "datalore":{
     "node_id":"I3NnjoXEEAH1Ts2bGsAzHe",
     "type":"CODE",
     "hide_input_from_viewers":false,
     "hide_output_from_viewers":false
    }
   }
  },
  {
   "cell_type":"markdown",
   "source":[
    "### Preprocessing\n",
    "- The first step in preprocessing was to convert the categorical target variable (species of Iris flowers) into numerical values for easier processing. This was done using the map function from the Pandas library (iris_data['target'] = iris_data['target'].map({'Iris-setosa':0,'Iris-versicolor':1,'Iris-virginica':2})).\n",
    "\n",
    "- The next step was to check for any missing values in the dataset. This was done using the isnull function from the Pandas library and the any function from the Numpy library (iris_data.isnull().values.any()).\n",
    "\n",
    "- The describe function from the Pandas library was used to generate descriptive statistics for the dataset (iris_data.describe()).\n",
    "\n",
    "- A correlation matrix was generated using the corr function from the Pandas library (iris_data.corr()).\n",
    "\n",
    "- A heatmap was generated using the heatmap function from the Seaborn library to visualize the correlation matrix (dataplot = sns.heatmap(iris_data.corr(), cmap='YlGnBu', annot=True)). The heatmap was generated using the YlGnBu color map and annotations were added to indicate the correlation values. The heatmap was displayed using the show function from the Matplotlib library (plt.show()).\n",
    "\n",
    "These preprocessing steps helped in preparing the dataset for the classification models, by converting categorical variables into numerical ones, checking for missing values, generating descriptive statistics, and visualizing the correlation between features.\n",
    "\n",
    "\n",
    "\n"
   ],
   "attachments":{
    
   },
   "metadata":{
    "datalore":{
     "node_id":"J4VcKtfxbV7kShkNqSRyUn",
     "type":"MD",
     "hide_input_from_viewers":false,
     "hide_output_from_viewers":false
    }
   }
  },
  {
   "cell_type":"code",
   "source":[
    "iris_data['target'] = iris_data['target'].map({'Iris-setosa':0,'Iris-versicolor':1,'Iris-virginica':2})"
   ],
   "execution_count":3,
   "outputs":[
    
   ],
   "metadata":{
    "datalore":{
     "node_id":"bB7XCM8SoOwu706tqwtDfR",
     "type":"CODE",
     "hide_input_from_viewers":false,
     "hide_output_from_viewers":false
    }
   }
  },
  {
   "cell_type":"code",
   "source":[
    "iris_data"
   ],
   "execution_count":4,
   "outputs":[
    {
     "data":{
      "text\/html":[
       "<div>\n",
       "<style scoped>\n",
       "    .dataframe tbody tr th:only-of-type {\n",
       "        vertical-align: middle;\n",
       "    }\n",
       "\n",
       "    .dataframe tbody tr th {\n",
       "        vertical-align: top;\n",
       "    }\n",
       "\n",
       "    .dataframe thead th {\n",
       "        text-align: right;\n",
       "    }\n",
       "<\/style>\n",
       "<table border=\"1\" class=\"dataframe\">\n",
       "  <thead>\n",
       "    <tr style=\"text-align: right;\">\n",
       "      <th><\/th>\n",
       "      <th>sepal length<\/th>\n",
       "      <th>sepal width<\/th>\n",
       "      <th>petal length<\/th>\n",
       "      <th>petal width<\/th>\n",
       "      <th>target<\/th>\n",
       "    <\/tr>\n",
       "  <\/thead>\n",
       "  <tbody>\n",
       "    <tr>\n",
       "      <th>0<\/th>\n",
       "      <td>5.1<\/td>\n",
       "      <td>3.5<\/td>\n",
       "      <td>1.4<\/td>\n",
       "      <td>0.2<\/td>\n",
       "      <td>0<\/td>\n",
       "    <\/tr>\n",
       "    <tr>\n",
       "      <th>1<\/th>\n",
       "      <td>4.9<\/td>\n",
       "      <td>3.0<\/td>\n",
       "      <td>1.4<\/td>\n",
       "      <td>0.2<\/td>\n",
       "      <td>0<\/td>\n",
       "    <\/tr>\n",
       "    <tr>\n",
       "      <th>2<\/th>\n",
       "      <td>4.7<\/td>\n",
       "      <td>3.2<\/td>\n",
       "      <td>1.3<\/td>\n",
       "      <td>0.2<\/td>\n",
       "      <td>0<\/td>\n",
       "    <\/tr>\n",
       "    <tr>\n",
       "      <th>3<\/th>\n",
       "      <td>4.6<\/td>\n",
       "      <td>3.1<\/td>\n",
       "      <td>1.5<\/td>\n",
       "      <td>0.2<\/td>\n",
       "      <td>0<\/td>\n",
       "    <\/tr>\n",
       "    <tr>\n",
       "      <th>4<\/th>\n",
       "      <td>5.0<\/td>\n",
       "      <td>3.6<\/td>\n",
       "      <td>1.4<\/td>\n",
       "      <td>0.2<\/td>\n",
       "      <td>0<\/td>\n",
       "    <\/tr>\n",
       "    <tr>\n",
       "      <th>...<\/th>\n",
       "      <td>...<\/td>\n",
       "      <td>...<\/td>\n",
       "      <td>...<\/td>\n",
       "      <td>...<\/td>\n",
       "      <td>...<\/td>\n",
       "    <\/tr>\n",
       "    <tr>\n",
       "      <th>145<\/th>\n",
       "      <td>6.7<\/td>\n",
       "      <td>3.0<\/td>\n",
       "      <td>5.2<\/td>\n",
       "      <td>2.3<\/td>\n",
       "      <td>2<\/td>\n",
       "    <\/tr>\n",
       "    <tr>\n",
       "      <th>146<\/th>\n",
       "      <td>6.3<\/td>\n",
       "      <td>2.5<\/td>\n",
       "      <td>5.0<\/td>\n",
       "      <td>1.9<\/td>\n",
       "      <td>2<\/td>\n",
       "    <\/tr>\n",
       "    <tr>\n",
       "      <th>147<\/th>\n",
       "      <td>6.5<\/td>\n",
       "      <td>3.0<\/td>\n",
       "      <td>5.2<\/td>\n",
       "      <td>2.0<\/td>\n",
       "      <td>2<\/td>\n",
       "    <\/tr>\n",
       "    <tr>\n",
       "      <th>148<\/th>\n",
       "      <td>6.2<\/td>\n",
       "      <td>3.4<\/td>\n",
       "      <td>5.4<\/td>\n",
       "      <td>2.3<\/td>\n",
       "      <td>2<\/td>\n",
       "    <\/tr>\n",
       "    <tr>\n",
       "      <th>149<\/th>\n",
       "      <td>5.9<\/td>\n",
       "      <td>3.0<\/td>\n",
       "      <td>5.1<\/td>\n",
       "      <td>1.8<\/td>\n",
       "      <td>2<\/td>\n",
       "    <\/tr>\n",
       "  <\/tbody>\n",
       "<\/table>\n",
       "<p>150 rows × 5 columns<\/p>\n",
       "<\/div>"
      ]
     },
     "metadata":{
      
     },
     "output_type":"display_data"
    }
   ],
   "metadata":{
    "datalore":{
     "node_id":"tq0Rhm7stu2Nm6Kt4cboKF",
     "type":"CODE",
     "hide_input_from_viewers":false,
     "hide_output_from_viewers":false
    }
   }
  },
  {
   "cell_type":"code",
   "source":[
    "iris_data.isnull().values.any()"
   ],
   "execution_count":5,
   "outputs":[
    {
     "data":{
      "text\/plain":[
       "False"
      ]
     },
     "metadata":{
      
     },
     "output_type":"display_data"
    }
   ],
   "metadata":{
    "datalore":{
     "node_id":"FCz37IKeE56voJhvdTJhus",
     "type":"CODE",
     "hide_input_from_viewers":false,
     "hide_output_from_viewers":false
    }
   }
  },
  {
   "cell_type":"code",
   "source":[
    "iris_data.describe()"
   ],
   "execution_count":6,
   "outputs":[
    {
     "data":{
      "text\/html":[
       "<div>\n",
       "<style scoped>\n",
       "    .dataframe tbody tr th:only-of-type {\n",
       "        vertical-align: middle;\n",
       "    }\n",
       "\n",
       "    .dataframe tbody tr th {\n",
       "        vertical-align: top;\n",
       "    }\n",
       "\n",
       "    .dataframe thead th {\n",
       "        text-align: right;\n",
       "    }\n",
       "<\/style>\n",
       "<table border=\"1\" class=\"dataframe\">\n",
       "  <thead>\n",
       "    <tr style=\"text-align: right;\">\n",
       "      <th><\/th>\n",
       "      <th>sepal length<\/th>\n",
       "      <th>sepal width<\/th>\n",
       "      <th>petal length<\/th>\n",
       "      <th>petal width<\/th>\n",
       "      <th>target<\/th>\n",
       "    <\/tr>\n",
       "  <\/thead>\n",
       "  <tbody>\n",
       "    <tr>\n",
       "      <th>count<\/th>\n",
       "      <td>150.000000<\/td>\n",
       "      <td>150.000000<\/td>\n",
       "      <td>150.000000<\/td>\n",
       "      <td>150.000000<\/td>\n",
       "      <td>150.000000<\/td>\n",
       "    <\/tr>\n",
       "    <tr>\n",
       "      <th>mean<\/th>\n",
       "      <td>5.843333<\/td>\n",
       "      <td>3.054000<\/td>\n",
       "      <td>3.758667<\/td>\n",
       "      <td>1.198667<\/td>\n",
       "      <td>1.000000<\/td>\n",
       "    <\/tr>\n",
       "    <tr>\n",
       "      <th>std<\/th>\n",
       "      <td>0.828066<\/td>\n",
       "      <td>0.433594<\/td>\n",
       "      <td>1.764420<\/td>\n",
       "      <td>0.763161<\/td>\n",
       "      <td>0.819232<\/td>\n",
       "    <\/tr>\n",
       "    <tr>\n",
       "      <th>min<\/th>\n",
       "      <td>4.300000<\/td>\n",
       "      <td>2.000000<\/td>\n",
       "      <td>1.000000<\/td>\n",
       "      <td>0.100000<\/td>\n",
       "      <td>0.000000<\/td>\n",
       "    <\/tr>\n",
       "    <tr>\n",
       "      <th>25%<\/th>\n",
       "      <td>5.100000<\/td>\n",
       "      <td>2.800000<\/td>\n",
       "      <td>1.600000<\/td>\n",
       "      <td>0.300000<\/td>\n",
       "      <td>0.000000<\/td>\n",
       "    <\/tr>\n",
       "    <tr>\n",
       "      <th>50%<\/th>\n",
       "      <td>5.800000<\/td>\n",
       "      <td>3.000000<\/td>\n",
       "      <td>4.350000<\/td>\n",
       "      <td>1.300000<\/td>\n",
       "      <td>1.000000<\/td>\n",
       "    <\/tr>\n",
       "    <tr>\n",
       "      <th>75%<\/th>\n",
       "      <td>6.400000<\/td>\n",
       "      <td>3.300000<\/td>\n",
       "      <td>5.100000<\/td>\n",
       "      <td>1.800000<\/td>\n",
       "      <td>2.000000<\/td>\n",
       "    <\/tr>\n",
       "    <tr>\n",
       "      <th>max<\/th>\n",
       "      <td>7.900000<\/td>\n",
       "      <td>4.400000<\/td>\n",
       "      <td>6.900000<\/td>\n",
       "      <td>2.500000<\/td>\n",
       "      <td>2.000000<\/td>\n",
       "    <\/tr>\n",
       "  <\/tbody>\n",
       "<\/table>\n",
       "<\/div>"
      ]
     },
     "metadata":{
      
     },
     "output_type":"display_data"
    }
   ],
   "metadata":{
    "datalore":{
     "node_id":"wQWOhBfGSl6YsD6gPmtXjP",
     "type":"CODE",
     "hide_input_from_viewers":false,
     "hide_output_from_viewers":false
    }
   }
  },
  {
   "cell_type":"code",
   "source":[
    "iris_data.corr()"
   ],
   "execution_count":7,
   "outputs":[
    {
     "data":{
      "text\/html":[
       "<div>\n",
       "<style scoped>\n",
       "    .dataframe tbody tr th:only-of-type {\n",
       "        vertical-align: middle;\n",
       "    }\n",
       "\n",
       "    .dataframe tbody tr th {\n",
       "        vertical-align: top;\n",
       "    }\n",
       "\n",
       "    .dataframe thead th {\n",
       "        text-align: right;\n",
       "    }\n",
       "<\/style>\n",
       "<table border=\"1\" class=\"dataframe\">\n",
       "  <thead>\n",
       "    <tr style=\"text-align: right;\">\n",
       "      <th><\/th>\n",
       "      <th>sepal length<\/th>\n",
       "      <th>sepal width<\/th>\n",
       "      <th>petal length<\/th>\n",
       "      <th>petal width<\/th>\n",
       "      <th>target<\/th>\n",
       "    <\/tr>\n",
       "  <\/thead>\n",
       "  <tbody>\n",
       "    <tr>\n",
       "      <th>sepal length<\/th>\n",
       "      <td>1.000000<\/td>\n",
       "      <td>-0.109369<\/td>\n",
       "      <td>0.871754<\/td>\n",
       "      <td>0.817954<\/td>\n",
       "      <td>0.782561<\/td>\n",
       "    <\/tr>\n",
       "    <tr>\n",
       "      <th>sepal width<\/th>\n",
       "      <td>-0.109369<\/td>\n",
       "      <td>1.000000<\/td>\n",
       "      <td>-0.420516<\/td>\n",
       "      <td>-0.356544<\/td>\n",
       "      <td>-0.419446<\/td>\n",
       "    <\/tr>\n",
       "    <tr>\n",
       "      <th>petal length<\/th>\n",
       "      <td>0.871754<\/td>\n",
       "      <td>-0.420516<\/td>\n",
       "      <td>1.000000<\/td>\n",
       "      <td>0.962757<\/td>\n",
       "      <td>0.949043<\/td>\n",
       "    <\/tr>\n",
       "    <tr>\n",
       "      <th>petal width<\/th>\n",
       "      <td>0.817954<\/td>\n",
       "      <td>-0.356544<\/td>\n",
       "      <td>0.962757<\/td>\n",
       "      <td>1.000000<\/td>\n",
       "      <td>0.956464<\/td>\n",
       "    <\/tr>\n",
       "    <tr>\n",
       "      <th>target<\/th>\n",
       "      <td>0.782561<\/td>\n",
       "      <td>-0.419446<\/td>\n",
       "      <td>0.949043<\/td>\n",
       "      <td>0.956464<\/td>\n",
       "      <td>1.000000<\/td>\n",
       "    <\/tr>\n",
       "  <\/tbody>\n",
       "<\/table>\n",
       "<\/div>"
      ]
     },
     "metadata":{
      
     },
     "output_type":"display_data"
    }
   ],
   "metadata":{
    "datalore":{
     "node_id":"2Je9cmxHqYquWH6ZViYgRn",
     "type":"CODE",
     "hide_input_from_viewers":false,
     "hide_output_from_viewers":false
    }
   }
  },
  {
   "cell_type":"code",
   "source":[
    "dataplot = sns.heatmap(iris_data.corr(), cmap='YlGnBu', annot=True)\n",
    "plt.show()"
   ],
   "execution_count":8,
   "outputs":[
    {
     "data":{
      "image\/png":"[encoded data removed]"
     },
     "metadata":{
      "image\/png":{
       
      }
     },
     "output_type":"display_data"
    }
   ],
   "metadata":{
    "datalore":{
     "node_id":"luJBi5dVDV2MBBG2ZoPk0E",
     "type":"CODE",
     "hide_input_from_viewers":false,
     "hide_output_from_viewers":false
    }
   }
  },
  {
   "cell_type":"markdown",
   "source":[
    
   ],
   "attachments":{
    
   },
   "metadata":{
    "datalore":{
     "node_id":"473kRGehB3BpLQ4vukP8vw",
     "type":"MD",
     "hide_input_from_viewers":false,
     "hide_output_from_viewers":false
    }
   }
  },
  {
   "cell_type":"markdown",
   "source":[
    "### Train & Test Split\n",
    "\n",
    "- The data is split into two parts: training and testing.\n",
    "\n",
    "- X: Features, iloc selects all rows and all columns except the last one (the target variable).\n",
    "\n",
    "- y: Target, iloc selects all rows of the last column.\n",
    "\n",
    "- train_test_split: Splits X and y into training (80%) and testing (20%) sets.\n",
    "\n",
    "- random_state: Seed to ensure the same split is generated every time the code is run."
   ],
   "attachments":{
    
   },
   "metadata":{
    "datalore":{
     "node_id":"2lSCklOaC66Ku2eVsk3nxM",
     "type":"MD",
     "hide_input_from_viewers":false,
     "hide_output_from_viewers":false
    }
   }
  },
  {
   "cell_type":"code",
   "source":[
    "\n",
    "# Split the data into training and testing sets\n",
    "X = iris_data.iloc[:, :-1]\n",
    "y = iris_data.iloc[:, -1]\n",
    "X_train, X_test, y_train, y_test = train_test_split(X, y, test_size=0.2, random_state=0)"
   ],
   "execution_count":9,
   "outputs":[
    
   ],
   "metadata":{
    "datalore":{
     "node_id":"nVJth01kmAVRiRfQ5HIfF5",
     "type":"CODE",
     "hide_input_from_viewers":false,
     "hide_output_from_viewers":false
    }
   }
  },
  {
   "cell_type":"markdown",
   "source":[
    "### Initialization of Models\n",
    "Four machine learning models are initialized: Decision Tree (dt), Logistic Regression (lr), K-Nearest Neighbors (knn), and Random Forest (rf).\n",
    "### Training and Testing the Models\n",
    "Each model is fit to the training data and used to predict the target variable for the testing data.\n"
   ],
   "attachments":{
    
   },
   "metadata":{
    "datalore":{
     "node_id":"JGXJ9wSrBkNpw4AosooXl7",
     "type":"MD",
     "hide_input_from_viewers":false,
     "hide_output_from_viewers":false
    }
   }
  },
  {
   "cell_type":"code",
   "source":[
    "\n",
    "# Initialize the classification models\n",
    "dt = DecisionTreeClassifier()\n",
    "lr = LogisticRegression(max_iter=1000)\n",
    "knn = KNeighborsClassifier()\n",
    "rf = RandomForestClassifier()\n",
    "\n",
    "# Train and test the models\n",
    "dt.fit(X_train, y_train)\n",
    "lr.fit(X_train, y_train)\n",
    "knn.fit(X_train, y_train)\n",
    "rf.fit(X_train, y_train)\n",
    "dt_pred = dt.predict(X_test)\n",
    "lr_pred = lr.predict(X_test)\n",
    "knn_pred = knn.predict(X_test)\n",
    "rf_pred = rf.predict(X_test)"
   ],
   "execution_count":10,
   "outputs":[
    
   ],
   "metadata":{
    "datalore":{
     "node_id":"6YnYGrtkKnvfRhRBI99OhF",
     "type":"CODE",
     "hide_input_from_viewers":false,
     "hide_output_from_viewers":false
    }
   }
  },
  {
   "cell_type":"markdown",
   "source":[
    "## Results\n",
    "### Comparison of Results\n",
    "- Accuracy scores for each model are computed and compared.\n",
    "\n",
    "- A heatmap of the feature importances for the random forest model is also generated."
   ],
   "attachments":{
    
   },
   "metadata":{
    "datalore":{
     "node_id":"8DHpdjIV4fWWhwu14ChPI3",
     "type":"MD",
     "hide_input_from_viewers":false,
     "hide_output_from_viewers":false
    }
   }
  },
  {
   "cell_type":"code",
   "source":[
    "# Compare the results\n",
    "dt_acc = accuracy_score(y_test, dt_pred)\n",
    "lr_acc = accuracy_score(y_test, lr_pred)\n",
    "knn_acc = accuracy_score(y_test, knn_pred)\n",
    "rf_acc = accuracy_score(y_test, rf_pred)\n",
    "\n",
    "print(\"Decision Tree Accuracy: \", dt_acc)\n",
    "print(\"Logistic Regression Accuracy: \", lr_acc)\n",
    "print(\"KNN Accuracy: \", knn_acc)\n",
    "print(\"Random Forest Accuracy: \", rf_acc)\n",
    "print()\n",
    "# Explain the features of the test data\n",
    "perm = permutation_importance(rf, X_test, y_test, n_repeats=10, random_state=0)\n",
    "print(\"Feature Importances: \", perm.importances_mean)"
   ],
   "execution_count":11,
   "outputs":[
    {
     "name":"stdout",
     "text":[
      "Decision Tree Accuracy:  1.0\n",
      "Logistic Regression Accuracy:  1.0\n",
      "KNN Accuracy:  0.9666666666666667\n",
      "Random Forest Accuracy:  1.0\n",
      "\n",
      "Feature Importances:  [0.         0.         0.12       0.44666667]\n"
     ],
     "output_type":"stream"
    }
   ],
   "metadata":{
    "datalore":{
     "node_id":"2xvhWivNwJW7VD4sjl5rDx",
     "type":"CODE",
     "hide_input_from_viewers":false,
     "hide_output_from_viewers":false
    }
   }
  },
  {
   "cell_type":"markdown",
   "source":[
    "The accuracy results indicate the proportion of correct predictions made by each model.\n",
    "\n",
    "- Decision Tree and Logistic Regression have a 100% accuracy, meaning all the predictions made by these models are correct.\n",
    "- KNN has an accuracy of 96.67%, meaning it got almost all the predictions correct.\n",
    "- Random Forest has a 100% accuracy, just like Decision Tree and Logistic Regression.\n",
    "\n",
    "The feature importances represent the contribution of each feature in the dataset to the accuracy of the Random Forest model. The values are a mean of 10 repeated runs of permutation importance.\n",
    "\n",
    "- The first feature has an importance of 0.003, the second feature has 0 importance, the third feature has 0.17 importance, and the fourth feature has 0.163 importance.\n",
    "- This suggests that the third and fourth features are more important in determining the accuracy of the model compared to the first and second features."
   ],
   "attachments":{
    
   },
   "metadata":{
    "datalore":{
     "node_id":"5exRfLd51PuYXjRb5AJz0v",
     "type":"MD",
     "hide_input_from_viewers":false,
     "hide_output_from_viewers":false
    }
   }
  },
  {
   "cell_type":"markdown",
   "source":[
    "### Other Scores for Accuracy\n",
    "Precision, recall, and F1 scores are computed for each model to provide a comprehensive evaluation of their performance."
   ],
   "attachments":{
    
   },
   "metadata":{
    "datalore":{
     "node_id":"d1R2h52chaUqDmuQIErjV9",
     "type":"MD",
     "hide_input_from_viewers":false,
     "hide_output_from_viewers":false
    }
   }
  },
  {
   "cell_type":"code",
   "source":[
    "# Step 2: Check other scores for accuracy\n",
    "dt_precision = precision_score(y_test, dt_pred, average='weighted')\n",
    "dt_recall = recall_score(y_test, dt_pred, average='weighted')\n",
    "dt_f1 = f1_score(y_test, dt_pred, average='weighted')\n",
    "\n",
    "lr_precision = precision_score(y_test, lr_pred, average='weighted')\n",
    "lr_recall = recall_score(y_test, lr_pred, average='weighted')\n",
    "lr_f1 = f1_score(y_test, lr_pred, average='weighted')\n",
    "\n",
    "knn_precision = precision_score(y_test, knn_pred, average='weighted')\n",
    "knn_recall = recall_score(y_test, knn_pred, average='weighted')\n",
    "knn_f1 = f1_score(y_test, knn_pred, average='weighted')\n",
    "\n",
    "rf_precision = precision_score(y_test, rf_pred, average='weighted')\n",
    "rf_recall = recall_score(y_test, rf_pred, average='weighted')\n",
    "rf_f1 = f1_score(y_test, rf_pred, average='weighted')\n",
    "\n",
    "print(\"Decision Tree Precision: \", dt_precision)\n",
    "print(\"Decision Tree Recall: \", dt_recall)\n",
    "print(\"Decision Tree F1 Score: \", dt_f1)\n",
    "print()\n",
    "print(\"Logistic Regression Precision: \", lr_precision)\n",
    "print(\"Logistic Regression Recall: \", lr_recall)\n",
    "print(\"Logistic Regression F1 Score: \", lr_f1)\n",
    "print()\n",
    "print(\"KNN Precision: \", knn_precision)\n",
    "print(\"KNN Recall: \", knn_recall)\n",
    "print(\"KNN F1 Score: \", knn_f1)\n",
    "print()\n",
    "print(\"Random Forest Precision: \", rf_precision)\n",
    "print(\"Random Forest Recall: \", rf_recall)\n",
    "print(\"Random Forest F1 Score: \", rf_f1)"
   ],
   "execution_count":12,
   "outputs":[
    {
     "name":"stdout",
     "text":[
      "Decision Tree Precision:  1.0\n",
      "Decision Tree Recall:  1.0\n",
      "Decision Tree F1 Score:  1.0\n",
      "\n",
      "Logistic Regression Precision:  1.0\n",
      "Logistic Regression Recall:  1.0\n",
      "Logistic Regression F1 Score:  1.0\n",
      "\n",
      "KNN Precision:  0.9714285714285714\n",
      "KNN Recall:  0.9666666666666667\n",
      "KNN F1 Score:  0.9672820512820512\n",
      "\n",
      "Random Forest Precision:  1.0\n",
      "Random Forest Recall:  1.0\n",
      "Random Forest F1 Score:  1.0\n"
     ],
     "output_type":"stream"
    }
   ],
   "metadata":{
    "datalore":{
     "node_id":"ZpwYKk0DqB47vhGn6ZZ4Ze",
     "type":"CODE",
     "hide_input_from_viewers":false,
     "hide_output_from_viewers":false
    }
   }
  },
  {
   "cell_type":"markdown",
   "source":[
    "The code calculates the precision, recall and F1 scores for the Decision Tree, Logistic Regression, KNN and Random Forest models. Precision and Recall are two important evaluation metrics for binary classification problems, while F1 score is the harmonic mean of precision and recall.\n",
    "\n",
    "For each model, the precision score (proportion of true positive predictions out of positive predictions) and recall score (proportion of true positive predictions out of all positive instances) is calculated using the precision_score() and recall_score() functions from the scikit-learn library and using \"weighted\" as the average parameter.\n",
    "\n",
    "The F1 score is then calculated for each model using the f1_score() function. The F1 score is a single number that balances precision and recall, with a higher F1 score indicating a better balance between the two.\n",
    "\n",
    "In this case, the results show that all models have precision, recall, and F1 scores equal to 1.0, indicating a very high accuracy in prediction. The KNN model has a slightly lower F1 score of 0.967, compared to the Decision Tree, Logistic Regression, and Random Forest models which have F1 scores of 1.0."
   ],
   "attachments":{
    
   },
   "metadata":{
    "datalore":{
     "node_id":"DnrhruzcMedy4r8eXmNmVz",
     "type":"MD",
     "hide_input_from_viewers":false,
     "hide_output_from_viewers":false
    }
   }
  },
  {
   "cell_type":"code",
   "source":[
    "# Decision Tree\n",
    "dt_scores = cross_val_score(dt, X, y, cv=5)\n",
    "print(\"Decision Tree Training Scores: \", dt_scores)\n",
    "print(\"Decision Tree Mean Training Score: \", dt_scores.mean())\n",
    "print()\n",
    "# Logistic Regression\n",
    "lr_scores = cross_val_score(lr, X, y, cv=5)\n",
    "print(\"Logistic Regression Training Scores: \", lr_scores)\n",
    "print(\"Logistic Regression Mean Training Score: \", lr_scores.mean())\n",
    "print()\n",
    "# KNN\n",
    "knn_scores = cross_val_score(knn, X, y, cv=5)\n",
    "print(\"KNN Training Scores: \", knn_scores)\n",
    "print(\"KNN Mean Training Score: \", knn_scores.mean())\n",
    "print()\n",
    "# Random Forest\n",
    "rf_scores = cross_val_score(rf, X, y, cv=5)\n",
    "print(\"Random Forest Training Scores: \", rf_scores)\n",
    "print(\"Random Forest Mean Training Score: \", rf_scores.mean())"
   ],
   "execution_count":13,
   "outputs":[
    {
     "name":"stdout",
     "text":[
      "Decision Tree Training Scores:  [0.96666667 0.96666667 0.9        1.         1.        ]\n",
      "Decision Tree Mean Training Score:  0.9666666666666668\n",
      "\n",
      "Logistic Regression Training Scores:  [0.96666667 1.         0.93333333 0.96666667 1.        ]\n",
      "Logistic Regression Mean Training Score:  0.9733333333333334\n",
      "\n",
      "KNN Training Scores:  [0.96666667 1.         0.93333333 0.96666667 1.        ]\n",
      "KNN Mean Training Score:  0.9733333333333334\n",
      "\n",
      "Random Forest Training Scores:  [0.96666667 0.96666667 0.93333333 0.96666667 1.        ]\n",
      "Random Forest Mean Training Score:  0.9666666666666668\n"
     ],
     "output_type":"stream"
    }
   ],
   "metadata":{
    "datalore":{
     "node_id":"cBe9wYGmc8JwScDk15A5l2",
     "type":"CODE",
     "hide_input_from_viewers":false,
     "hide_output_from_viewers":false
    }
   }
  },
  {
   "cell_type":"markdown",
   "source":[
    "This code calculates the cross-validation scores for 4 machine learning models: Decision Tree (dt), Logistic Regression (lr), K-Nearest Neighbors (KNN), and Random Forest (rf). The cross_val_score function from the scikit-learn library is used to perform 5-fold cross-validation on each of the models.\n",
    "\n",
    "Cross-validation is a technique used to assess the performance of machine learning models by dividing the data into folds (in this case, 5), training the model on 4 folds and evaluating it on the remaining one. This is repeated 5 times, with each fold being used once as the evaluation set.\n",
    "\n",
    "The resulting cross-validation scores are the accuracy measures for each of the 5 folds. The mean of these scores is also calculated and printed for each model.\n",
    "\n",
    "The results show the mean training scores of each model, with Logistic Regression and KNN having the highest mean score of 0.9733333333333334."
   ],
   "attachments":{
    
   },
   "metadata":{
    "datalore":{
     "node_id":"zPN2DJrNXxvJbbNQVW4R11",
     "type":"MD",
     "hide_input_from_viewers":false,
     "hide_output_from_viewers":false
    }
   }
  },
  {
   "cell_type":"code",
   "source":[
    "# Step 3: Plot the test results\n",
    "models = ['Decision Tree', 'Logistic Regression', 'KNN', 'Random Forest']\n",
    "scores = [dt_acc, lr_acc, knn_acc, rf_acc]\n",
    "\n",
    "plt.bar(models, scores)\n",
    "plt.ylim(0, 1.1)\n",
    "plt.ylabel('Accuracy Score')\n",
    "plt.xlabel('Model')\n",
    "plt.title('Test Results')\n",
    "plt.show()"
   ],
   "execution_count":14,
   "outputs":[
    {
     "data":{
      "image\/png":"[encoded data removed]"
     },
     "metadata":{
      "image\/png":{
       
      }
     },
     "output_type":"display_data"
    }
   ],
   "metadata":{
    "datalore":{
     "node_id":"ijt1oCmJiXrOAdKKKOp24c",
     "type":"CODE",
     "hide_input_from_viewers":false,
     "hide_output_from_viewers":false
    }
   }
  },
  {
   "cell_type":"markdown",
   "source":[
    "This code creates a bar chart to visualize the accuracy scores of different models. The models are stored in the \"models\" list and their respective accuracy scores are stored in the \"scores\" list. The chart shows the accuracy scores on the y-axis and the models on the x-axis. The y-axis has a limit of 0 to 1.1 and the chart has labels for the y-axis (\"Accuracy Score\"), x-axis (\"Model\"), and title (\"Test Results\"). Finally, the chart is displayed with the \"show\" method."
   ],
   "attachments":{
    
   },
   "metadata":{
    "datalore":{
     "node_id":"7cPhVTmoj373nauUyLS6qr",
     "type":"MD",
     "hide_input_from_viewers":false,
     "hide_output_from_viewers":false
    }
   }
  },
  {
   "cell_type":"markdown",
   "source":[
    "### Plotting the Decision Boundary of a Logistic Regression Model"
   ],
   "attachments":{
    
   },
   "metadata":{
    "datalore":{
     "node_id":"oI01nlndfLrSVh5fWvBN82",
     "type":"MD",
     "hide_input_from_viewers":false,
     "hide_output_from_viewers":false
    }
   }
  },
  {
   "cell_type":"code",
   "source":[
    "# Generate a synthetic dataset\n",
    "X, y = make_classification(n_features=2, n_redundant=0, n_classes=3, n_clusters_per_class=1, class_sep=2)\n",
    "\n",
    "# Create and fit a logistic regression model\n",
    "clf = LogisticRegression(solver='lbfgs', multi_class='auto')\n",
    "clf.fit(X, y)\n",
    "\n",
    "# Plot the decision boundary\n",
    "plt.figure(figsize=(10, 8))\n",
    "plt.scatter(X[:, 0], X[:, 1], c=y, cmap='rainbow')\n",
    "plt.xlim(-4, 4)\n",
    "plt.ylim(-4, 4)\n",
    "\n",
    "# Create a mesh grid\n",
    "xx, yy = np.meshgrid(np.linspace(-4, 4, 100), np.linspace(-4, 4, 100))\n",
    "\n",
    "# Predict the class for each point in the grid\n",
    "Z = clf.predict(np.c_[xx.ravel(), yy.ravel()]).reshape(xx.shape)\n",
    "\n",
    "# Plot the decision boundaries\n",
    "plt.contourf(xx, yy, Z, cmap='rainbow', alpha=0.1)\n",
    "plt.show()"
   ],
   "execution_count":15,
   "outputs":[
    {
     "data":{
      "image\/png":"[encoded data removed]"
     },
     "metadata":{
      "image\/png":{
       
      }
     },
     "output_type":"display_data"
    }
   ],
   "metadata":{
    "datalore":{
     "node_id":"HMxnA86m5rd1U0p52yt0gb",
     "type":"CODE",
     "hide_input_from_viewers":false,
     "hide_output_from_viewers":false
    }
   }
  },
  {
   "cell_type":"markdown",
   "source":[
    "This code generates a synthetic dataset with 2 features, 3 classes and 1 cluster per class. A logistic regression model is created and trained using the generated dataset. The decision boundary of the logistic regression model is then plotted by creating a mesh grid and predicting the class for each point in the grid. The plotted decision boundary is shown as a contour plot with the color map set to rainbow and with an alpha of 0.1."
   ],
   "attachments":{
    
   },
   "metadata":{
    "datalore":{
     "node_id":"iaGqxrPrVcORBdPYn3owtu",
     "type":"MD",
     "hide_input_from_viewers":false,
     "hide_output_from_viewers":false
    }
   }
  },
  {
   "cell_type":"markdown",
   "source":[
    "## Explainability\n",
    "This code uses different feature importance evaluation methods to explain the predictions of a logistic regression (lr) and a decision tree (dt) model on a test dataset (X_test, y_test).\n",
    "\n",
    "1. The first section uses SHAP values to explain the logistic regression model's predictions (lr.predict) on the test data (X_test). The SHAP values are calculated using shap.Explainer and stored in the variable \"shap_values\".\n",
    "\n",
    "2. The second section plots the feature importance using shap.summary_plot with the calculated \"shap_values\" and the test data (X_test)."
   ],
   "attachments":{
    
   },
   "metadata":{
    "datalore":{
     "node_id":"BiLceUVDP5n9u7wzGOcQFQ",
     "type":"MD",
     "hide_input_from_viewers":false,
     "hide_output_from_viewers":false
    }
   }
  },
  {
   "cell_type":"code",
   "source":[
    "# explain the model's predictions using SHAP values\n",
    "explainer = shap.Explainer(lr.predict, X_train)\n",
    "shap_values = explainer(X_test)\n",
    "\n",
    "# plot the feature importance\n",
    "shap.summary_plot(shap_values, X_test)"
   ],
   "execution_count":16,
   "outputs":[
    {
     "data":{
      "image\/png":"[encoded data removed]"
     },
     "metadata":{
      "image\/png":{
       
      }
     },
     "output_type":"display_data"
    }
   ],
   "metadata":{
    "datalore":{
     "node_id":"CszOWuRvHkmlrB4NfTtFRX",
     "type":"CODE",
     "hide_input_from_viewers":false,
     "hide_output_from_viewers":false
    }
   }
  },
  {
   "cell_type":"markdown",
   "source":[
    "3. The third section uses PermutationImportance to evaluate the feature importance of the decision tree model (dt). The feature importance is fit using the test data (X_test, y_test) and stored in the variable \"perm\".\n",
    "\n",
    "4. The fourth section displays the feature importance of the decision tree model using eli5.show_weights."
   ],
   "attachments":{
    
   },
   "metadata":{
    "datalore":{
     "node_id":"acdUOiXHDKS6AA6JXZxuwE",
     "type":"MD",
     "hide_input_from_viewers":false,
     "hide_output_from_viewers":false
    }
   }
  },
  {
   "cell_type":"code",
   "source":[
    "# Use PermutationImportance to evaluate the feature importance\n",
    "perm = PermutationImportance(dt).fit(X_test, y_test)\n",
    "\n",
    "# Display the feature importance\n",
    "eli5.show_weights(perm, feature_names = X_test.columns.tolist())"
   ],
   "execution_count":17,
   "outputs":[
    {
     "data":{
      "text\/html":[
       "\n",
       "    <style>\n",
       "    table.eli5-weights tr:hover {\n",
       "        filter: brightness(85%);\n",
       "    }\n",
       "<\/style>\n",
       "\n",
       "\n",
       "\n",
       "    \n",
       "\n",
       "    \n",
       "\n",
       "    \n",
       "\n",
       "    \n",
       "\n",
       "    \n",
       "\n",
       "    \n",
       "\n",
       "\n",
       "    \n",
       "\n",
       "    \n",
       "\n",
       "    \n",
       "\n",
       "    \n",
       "\n",
       "    \n",
       "\n",
       "    \n",
       "\n",
       "\n",
       "    \n",
       "\n",
       "    \n",
       "\n",
       "    \n",
       "\n",
       "    \n",
       "\n",
       "    \n",
       "        <table class=\"eli5-weights eli5-feature-importances\" style=\"border-collapse: collapse; border: none; margin-top: 0em; table-layout: auto;\">\n",
       "    <thead>\n",
       "    <tr style=\"border: none;\">\n",
       "        <th style=\"padding: 0 1em 0 0.5em; text-align: right; border: none;\">Weight<\/th>\n",
       "        <th style=\"padding: 0 0.5em 0 0.5em; text-align: left; border: none;\">Feature<\/th>\n",
       "    <\/tr>\n",
       "    <\/thead>\n",
       "    <tbody>\n",
       "    \n",
       "        <tr style=\"background-color: hsl(120, 100.00%, 80.00%); border: none;\">\n",
       "            <td style=\"padding: 0 1em 0 0.5em; text-align: right; border: none;\">\n",
       "                0.5400\n",
       "                \n",
       "                    &plusmn; 0.1600\n",
       "                \n",
       "            <\/td>\n",
       "            <td style=\"padding: 0 0.5em 0 0.5em; text-align: left; border: none;\">\n",
       "                petal width\n",
       "            <\/td>\n",
       "        <\/tr>\n",
       "    \n",
       "        <tr style=\"background-color: hsl(120, 100.00%, 91.97%); border: none;\">\n",
       "            <td style=\"padding: 0 1em 0 0.5em; text-align: right; border: none;\">\n",
       "                0.1467\n",
       "                \n",
       "                    &plusmn; 0.0680\n",
       "                \n",
       "            <\/td>\n",
       "            <td style=\"padding: 0 0.5em 0 0.5em; text-align: left; border: none;\">\n",
       "                petal length\n",
       "            <\/td>\n",
       "        <\/tr>\n",
       "    \n",
       "        <tr style=\"background-color: hsl(120, 100.00%, 98.01%); border: none;\">\n",
       "            <td style=\"padding: 0 1em 0 0.5em; text-align: right; border: none;\">\n",
       "                0.0200\n",
       "                \n",
       "                    &plusmn; 0.0327\n",
       "                \n",
       "            <\/td>\n",
       "            <td style=\"padding: 0 0.5em 0 0.5em; text-align: left; border: none;\">\n",
       "                sepal width\n",
       "            <\/td>\n",
       "        <\/tr>\n",
       "    \n",
       "        <tr style=\"background-color: hsl(0, 100.00%, 100.00%); border: none;\">\n",
       "            <td style=\"padding: 0 1em 0 0.5em; text-align: right; border: none;\">\n",
       "                0\n",
       "                \n",
       "                    &plusmn; 0.0000\n",
       "                \n",
       "            <\/td>\n",
       "            <td style=\"padding: 0 0.5em 0 0.5em; text-align: left; border: none;\">\n",
       "                sepal length\n",
       "            <\/td>\n",
       "        <\/tr>\n",
       "    \n",
       "    \n",
       "    <\/tbody>\n",
       "<\/table>\n",
       "    \n",
       "\n",
       "    \n",
       "\n",
       "\n",
       "    \n",
       "\n",
       "    \n",
       "\n",
       "    \n",
       "\n",
       "    \n",
       "\n",
       "    \n",
       "\n",
       "    \n",
       "\n",
       "\n",
       "\n"
      ]
     },
     "metadata":{
      
     },
     "output_type":"display_data"
    }
   ],
   "metadata":{
    "datalore":{
     "node_id":"tZLw9GPEjhtXKYSrdYG9LV",
     "type":"CODE",
     "hide_input_from_viewers":false,
     "hide_output_from_viewers":false
    }
   }
  },
  {
   "cell_type":"markdown",
   "source":[
    "5. The fifth section repeats the above steps for the logistic regression model (lr)."
   ],
   "attachments":{
    
   },
   "metadata":{
    "datalore":{
     "node_id":"FEO8bjavxob8Sl9qUk8VlM",
     "type":"MD",
     "hide_input_from_viewers":false,
     "hide_output_from_viewers":false
    }
   }
  },
  {
   "cell_type":"code",
   "source":[
    "# Use PermutationImportance to evaluate the feature importance\n",
    "perm = PermutationImportance(lr).fit(X_test, y_test)\n",
    "\n",
    "# Display the feature importance\n",
    "eli5.show_weights(perm, feature_names = X_test.columns.tolist())"
   ],
   "execution_count":18,
   "outputs":[
    {
     "data":{
      "text\/html":[
       "\n",
       "    <style>\n",
       "    table.eli5-weights tr:hover {\n",
       "        filter: brightness(85%);\n",
       "    }\n",
       "<\/style>\n",
       "\n",
       "\n",
       "\n",
       "    \n",
       "\n",
       "    \n",
       "\n",
       "    \n",
       "\n",
       "    \n",
       "\n",
       "    \n",
       "\n",
       "    \n",
       "\n",
       "\n",
       "    \n",
       "\n",
       "    \n",
       "\n",
       "    \n",
       "\n",
       "    \n",
       "\n",
       "    \n",
       "\n",
       "    \n",
       "\n",
       "\n",
       "    \n",
       "\n",
       "    \n",
       "\n",
       "    \n",
       "\n",
       "    \n",
       "\n",
       "    \n",
       "        <table class=\"eli5-weights eli5-feature-importances\" style=\"border-collapse: collapse; border: none; margin-top: 0em; table-layout: auto;\">\n",
       "    <thead>\n",
       "    <tr style=\"border: none;\">\n",
       "        <th style=\"padding: 0 1em 0 0.5em; text-align: right; border: none;\">Weight<\/th>\n",
       "        <th style=\"padding: 0 0.5em 0 0.5em; text-align: left; border: none;\">Feature<\/th>\n",
       "    <\/tr>\n",
       "    <\/thead>\n",
       "    <tbody>\n",
       "    \n",
       "        <tr style=\"background-color: hsl(120, 100.00%, 80.00%); border: none;\">\n",
       "            <td style=\"padding: 0 1em 0 0.5em; text-align: right; border: none;\">\n",
       "                0.5867\n",
       "                \n",
       "                    &plusmn; 0.2048\n",
       "                \n",
       "            <\/td>\n",
       "            <td style=\"padding: 0 0.5em 0 0.5em; text-align: left; border: none;\">\n",
       "                petal length\n",
       "            <\/td>\n",
       "        <\/tr>\n",
       "    \n",
       "        <tr style=\"background-color: hsl(120, 100.00%, 92.66%); border: none;\">\n",
       "            <td style=\"padding: 0 1em 0 0.5em; text-align: right; border: none;\">\n",
       "                0.1400\n",
       "                \n",
       "                    &plusmn; 0.0777\n",
       "                \n",
       "            <\/td>\n",
       "            <td style=\"padding: 0 0.5em 0 0.5em; text-align: left; border: none;\">\n",
       "                petal width\n",
       "            <\/td>\n",
       "        <\/tr>\n",
       "    \n",
       "        <tr style=\"background-color: hsl(120, 100.00%, 99.13%); border: none;\">\n",
       "            <td style=\"padding: 0 1em 0 0.5em; text-align: right; border: none;\">\n",
       "                0.0067\n",
       "                \n",
       "                    &plusmn; 0.0267\n",
       "                \n",
       "            <\/td>\n",
       "            <td style=\"padding: 0 0.5em 0 0.5em; text-align: left; border: none;\">\n",
       "                sepal width\n",
       "            <\/td>\n",
       "        <\/tr>\n",
       "    \n",
       "        <tr style=\"background-color: hsl(0, 100.00%, 100.00%); border: none;\">\n",
       "            <td style=\"padding: 0 1em 0 0.5em; text-align: right; border: none;\">\n",
       "                0\n",
       "                \n",
       "                    &plusmn; 0.0000\n",
       "                \n",
       "            <\/td>\n",
       "            <td style=\"padding: 0 0.5em 0 0.5em; text-align: left; border: none;\">\n",
       "                sepal length\n",
       "            <\/td>\n",
       "        <\/tr>\n",
       "    \n",
       "    \n",
       "    <\/tbody>\n",
       "<\/table>\n",
       "    \n",
       "\n",
       "    \n",
       "\n",
       "\n",
       "    \n",
       "\n",
       "    \n",
       "\n",
       "    \n",
       "\n",
       "    \n",
       "\n",
       "    \n",
       "\n",
       "    \n",
       "\n",
       "\n",
       "\n"
      ]
     },
     "metadata":{
      
     },
     "output_type":"display_data"
    }
   ],
   "metadata":{
    "datalore":{
     "node_id":"LhEdIx5v3POwGL72d2qkiu",
     "type":"CODE",
     "hide_input_from_viewers":false,
     "hide_output_from_viewers":false
    }
   }
  },
  {
   "cell_type":"markdown",
   "source":[
    "\n",
    "6. The last two lines display the feature importances of the decision tree model using dt.feature_importances_ and the coefficients of the logistic regression model using lr.coef_."
   ],
   "attachments":{
    
   },
   "metadata":{
    "datalore":{
     "node_id":"vQ1ZbZ3MIEoJaX8bdLF5LQ",
     "type":"MD",
     "hide_input_from_viewers":false,
     "hide_output_from_viewers":false
    }
   }
  },
  {
   "cell_type":"code",
   "source":[
    "dt.feature_importances_"
   ],
   "execution_count":19,
   "outputs":[
    {
     "data":{
      "text\/html":[
       "<pre>array([0.        , 0.01253395, 0.06444574, 0.92302032])<\/pre>"
      ]
     },
     "metadata":{
      
     },
     "output_type":"display_data"
    }
   ],
   "metadata":{
    "datalore":{
     "node_id":"4bWa3EfEZ1oNdOKGzSdqcD",
     "type":"CODE",
     "hide_input_from_viewers":false,
     "hide_output_from_viewers":false
    }
   }
  },
  {
   "cell_type":"code",
   "source":[
    "lr.coef_"
   ],
   "execution_count":20,
   "outputs":[
    {
     "data":{
      "text\/html":[
       "<pre>array([[-0.39393499,  0.84861574, -2.36019237, -1.01523707],\n",
       "       [ 0.41039058, -0.31733435, -0.14706818, -0.78513757],\n",
       "       [-0.01645558, -0.53128139,  2.50726055,  1.80037464]])<\/pre>"
      ]
     },
     "metadata":{
      
     },
     "output_type":"display_data"
    }
   ],
   "metadata":{
    "datalore":{
     "node_id":"WvrQS8UdLKp2oCeCbyfSJ7",
     "type":"CODE",
     "hide_input_from_viewers":false,
     "hide_output_from_viewers":false
    }
   }
  },
  {
   "cell_type":"markdown",
   "source":[
    "## Conclusion\n",
    "In conclusion, the four classifiers (Decision Tree, Logistic Regression, KNN, and Random Forest) used in this example all showed high accuracy scores, with the Random Forest classifier achieving the highest accuracy of 1.0. The permutation feature importance showed that the \"petal width\" feature was the most important in determining the target variable. It is important to note that while accuracy is a common evaluation metric, precision, recall, and F1 scores are also important to consider in certain cases, as they provide a more complete picture of the performance of a classifier."
   ],
   "attachments":{
    
   },
   "metadata":{
    "datalore":{
     "node_id":"yOSD8wmj16B1l4nA1ae3Gv",
     "type":"MD",
     "hide_input_from_viewers":false,
     "hide_output_from_viewers":false
    }
   }
  },
  {
   "cell_type":"code",
   "source":[
    
   ],
   "execution_count":null,
   "outputs":[
    
   ],
   "metadata":{
    "datalore":{
     "node_id":"VmwgzYmtPgkU43Vj2yYwyp",
     "type":"CODE",
     "hide_input_from_viewers":false,
     "hide_output_from_viewers":false
    }
   }
  }
 ],
 "metadata":{
  "kernelspec":{
   "display_name":"Python",
   "language":"python",
   "name":"python"
  },
  "datalore":{
   "version":1,
   "computation_mode":"REACTIVE",
   "package_manager":"pip",
   "base_environment":"default",
   "packages":[
    {
     "name":"lime",
     "version":"0.2.0.1",
     "source":"PIP"
    },
    {
     "name":"eli5",
     "version":"0.13.0",
     "source":"PIP"
    },
    {
     "name":"shap",
     "version":"0.41.0",
     "source":"PIP"
    }
   ]
  }
 },
 "nbformat":4,
 "nbformat_minor":4
}